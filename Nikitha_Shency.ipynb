{
  "nbformat": 4,
  "nbformat_minor": 0,
  "metadata": {
    "colab": {
      "name": "Nikitha_Shency.ipynb",
      "provenance": []
    },
    "kernelspec": {
      "name": "python3",
      "display_name": "Python 3"
    },
    "language_info": {
      "name": "python"
    }
  },
  "cells": [
    {
      "cell_type": "code",
      "metadata": {
        "id": "ZvmDZEGGxBpD"
      },
      "source": [
        "#Importing dataset\n",
        "from keras.datasets import mnist\n",
        "data= mnist.load_data()"
      ],
      "execution_count": 43,
      "outputs": []
    },
    {
      "cell_type": "code",
      "metadata": {
        "colab": {
          "base_uri": "https://localhost:8080/"
        },
        "id": "PGKt-3o9xeZP",
        "outputId": "2da7f5bc-a6e3-4418-9ca6-e786c36a8cbc"
      },
      "source": [
        "((x_train,y_train),(x_test,y_test))= data\n",
        "#shape\n",
        "x_train[0].shape"
      ],
      "execution_count": 44,
      "outputs": [
        {
          "output_type": "execute_result",
          "data": {
            "text/plain": [
              "(28, 28)"
            ]
          },
          "metadata": {
            "tags": []
          },
          "execution_count": 44
        }
      ]
    },
    {
      "cell_type": "code",
      "metadata": {
        "id": "VtiBtjItx7lh"
      },
      "source": [
        "#Reshape the data\n",
        "x_train=x_train.reshape((x_train.shape[0],28*28)).astype('float32')\n",
        "x_test=x_test.reshape((x_test.shape[0],28*28)).astype('float32')"
      ],
      "execution_count": 45,
      "outputs": []
    },
    {
      "cell_type": "code",
      "metadata": {
        "id": "lUFgXRfbzOM9"
      },
      "source": [
        "#normalizing values\n",
        "x_train=x_train/255\n",
        "x_test=x_test/255"
      ],
      "execution_count": 46,
      "outputs": []
    },
    {
      "cell_type": "code",
      "metadata": {
        "colab": {
          "base_uri": "https://localhost:8080/"
        },
        "id": "RMT25wyuzeBy",
        "outputId": "f83b9569-23cc-47bf-c2f6-01f71f997d8a"
      },
      "source": [
        "from keras.utils import np_utils\n",
        "\n",
        "print(y_test.shape)\n",
        "\n",
        "y_train= np_utils.to_categorical(y_train)\n",
        "y_test= np_utils.to_categorical(y_test)\n",
        "num_classes=y_test.shape[1]\n",
        "\n",
        "print(num_classes)"
      ],
      "execution_count": 47,
      "outputs": [
        {
          "output_type": "stream",
          "text": [
            "(10000,)\n",
            "10\n"
          ],
          "name": "stdout"
        }
      ]
    },
    {
      "cell_type": "code",
      "metadata": {
        "id": "ynFG9sFg0GFA"
      },
      "source": [
        "from keras.models import Sequential\n",
        "from keras.layers import Dense"
      ],
      "execution_count": 48,
      "outputs": []
    },
    {
      "cell_type": "code",
      "metadata": {
        "id": "kPrx6OOD1NKI"
      },
      "source": [
        "# Define Model\n",
        "model = Sequential()\n",
        "\n",
        "#Add first hidden layer\n",
        "model.add(Dense(32, input_dim= 28*28, activation= 'relu'))\n",
        "\n",
        "#Add second hidden layer\n",
        "model.add(Dense(64,activation='relu'))\n",
        "\n",
        "# Add output layer having 10 neurons\n",
        "model.add(Dense(10,activation='softmax'))"
      ],
      "execution_count": 49,
      "outputs": []
    },
    {
      "cell_type": "code",
      "metadata": {
        "id": "WVzkpUGf_Fas"
      },
      "source": [
        "#Compile Model\n",
        "model.compile(loss='categorical_crossentropy', optimizer='adam',metrics=['accuracy'])"
      ],
      "execution_count": 50,
      "outputs": []
    },
    {
      "cell_type": "code",
      "metadata": {
        "colab": {
          "base_uri": "https://localhost:8080/"
        },
        "id": "lKQsuMMg_fRE",
        "outputId": "d59effe7-8ab3-4c2b-97bd-ab562cc1e146"
      },
      "source": [
        "#Print model summary\n",
        "model.summary()"
      ],
      "execution_count": 51,
      "outputs": [
        {
          "output_type": "stream",
          "text": [
            "Model: \"sequential_11\"\n",
            "_________________________________________________________________\n",
            "Layer (type)                 Output Shape              Param #   \n",
            "=================================================================\n",
            "dense_9 (Dense)              (None, 32)                25120     \n",
            "_________________________________________________________________\n",
            "dense_10 (Dense)             (None, 64)                2112      \n",
            "_________________________________________________________________\n",
            "dense_11 (Dense)             (None, 10)                650       \n",
            "=================================================================\n",
            "Total params: 27,882\n",
            "Trainable params: 27,882\n",
            "Non-trainable params: 0\n",
            "_________________________________________________________________\n"
          ],
          "name": "stdout"
        }
      ]
    },
    {
      "cell_type": "code",
      "metadata": {
        "colab": {
          "base_uri": "https://localhost:8080/"
        },
        "id": "ab_mVwLQCuq_",
        "outputId": "7afb26b0-a181-423c-f473-b71f827fccc4"
      },
      "source": [
        "#Train model\n",
        "model.fit(x_train,y_train,epochs=10, batch_size=10)"
      ],
      "execution_count": 52,
      "outputs": [
        {
          "output_type": "stream",
          "text": [
            "Epoch 1/10\n",
            "6000/6000 [==============================] - 8s 1ms/step - loss: 0.4495 - accuracy: 0.8685\n",
            "Epoch 2/10\n",
            "6000/6000 [==============================] - 8s 1ms/step - loss: 0.1419 - accuracy: 0.9584\n",
            "Epoch 3/10\n",
            "6000/6000 [==============================] - 8s 1ms/step - loss: 0.1051 - accuracy: 0.9678\n",
            "Epoch 4/10\n",
            "6000/6000 [==============================] - 8s 1ms/step - loss: 0.0856 - accuracy: 0.9735\n",
            "Epoch 5/10\n",
            "6000/6000 [==============================] - 8s 1ms/step - loss: 0.0745 - accuracy: 0.9752\n",
            "Epoch 6/10\n",
            "6000/6000 [==============================] - 8s 1ms/step - loss: 0.0703 - accuracy: 0.9775\n",
            "Epoch 7/10\n",
            "6000/6000 [==============================] - 8s 1ms/step - loss: 0.0560 - accuracy: 0.9818\n",
            "Epoch 8/10\n",
            "6000/6000 [==============================] - 8s 1ms/step - loss: 0.0510 - accuracy: 0.9837\n",
            "Epoch 9/10\n",
            "6000/6000 [==============================] - 8s 1ms/step - loss: 0.0497 - accuracy: 0.9840\n",
            "Epoch 10/10\n",
            "6000/6000 [==============================] - 8s 1ms/step - loss: 0.0479 - accuracy: 0.9847\n"
          ],
          "name": "stdout"
        },
        {
          "output_type": "execute_result",
          "data": {
            "text/plain": [
              "<tensorflow.python.keras.callbacks.History at 0x7fb358be24d0>"
            ]
          },
          "metadata": {
            "tags": []
          },
          "execution_count": 52
        }
      ]
    },
    {
      "cell_type": "code",
      "metadata": {
        "colab": {
          "base_uri": "https://localhost:8080/"
        },
        "id": "FPTZpMHwDhXT",
        "outputId": "d924771e-1a91-44f4-8f92-9e621e633ad9"
      },
      "source": [
        "#Check model performance\n",
        "scores= model.evaluate(x_test,y_test)\n",
        "print(scores)"
      ],
      "execution_count": 53,
      "outputs": [
        {
          "output_type": "stream",
          "text": [
            "313/313 [==============================] - 0s 948us/step - loss: 0.1264 - accuracy: 0.9683\n",
            "[0.12643691897392273, 0.9682999849319458]\n"
          ],
          "name": "stdout"
        }
      ]
    }
  ]
}